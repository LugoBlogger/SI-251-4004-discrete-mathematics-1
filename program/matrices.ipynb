{
 "cells": [
  {
   "cell_type": "code",
   "execution_count": 6,
   "id": "b0bcac91",
   "metadata": {},
   "outputs": [],
   "source": [
    "import numpy as np"
   ]
  },
  {
   "cell_type": "code",
   "execution_count": 2,
   "id": "bb3a0fbb",
   "metadata": {},
   "outputs": [],
   "source": [
    "A = [[1, 0, 4], \n",
    "     [2, 1, 1], \n",
    "     [3, 1, 0], \n",
    "     [0, 2, 2]]\n",
    "\n",
    "B = [[2, 4],\n",
    "     [1, 1], \n",
    "     [3, 0]]\n"
   ]
  },
  {
   "cell_type": "code",
   "execution_count": 4,
   "id": "caf80dd6",
   "metadata": {},
   "outputs": [],
   "source": [
    "def product_A_B(A, B):\n",
    "  total_col_A = len(A[0])\n",
    "  total_row_B = len(B)\n",
    "\n",
    "  if total_col_A == total_row_B:\n",
    "    # Calculate AB\n",
    "    total_k = total_col_A\n",
    "    C = [[0, 0], \n",
    "         [0, 0], \n",
    "         [0, 0], \n",
    "         [0, 0]]\n",
    "    total_m = len(C)\n",
    "    total_n = len(C[0])\n",
    "    for i in range(total_m):\n",
    "      for j in range(total_n):\n",
    "        for k in range(total_k):\n",
    "          C[i][j] = C[i][j] + A[i][k]*B[k][j]\n",
    "    return C\n",
    "  else:\n",
    "    print(f\"undefined\")\n",
    "    return "
   ]
  },
  {
   "cell_type": "code",
   "execution_count": 5,
   "id": "10f71ba2",
   "metadata": {},
   "outputs": [
    {
     "data": {
      "text/plain": [
       "[[14, 4], [8, 9], [7, 13], [8, 2]]"
      ]
     },
     "execution_count": 5,
     "metadata": {},
     "output_type": "execute_result"
    }
   ],
   "source": [
    "product_A_B(A, B)"
   ]
  },
  {
   "cell_type": "code",
   "execution_count": 9,
   "id": "a7b0a05d",
   "metadata": {},
   "outputs": [
    {
     "data": {
      "text/plain": [
       "array([[14,  4],\n",
       "       [ 8,  9],\n",
       "       [ 7, 13],\n",
       "       [ 8,  2]])"
      ]
     },
     "execution_count": 9,
     "metadata": {},
     "output_type": "execute_result"
    }
   ],
   "source": [
    "np.array(A).dot(np.array(B))"
   ]
  }
 ],
 "metadata": {
  "kernelspec": {
   "display_name": "base",
   "language": "python",
   "name": "python3"
  },
  "language_info": {
   "codemirror_mode": {
    "name": "ipython",
    "version": 3
   },
   "file_extension": ".py",
   "mimetype": "text/x-python",
   "name": "python",
   "nbconvert_exporter": "python",
   "pygments_lexer": "ipython3",
   "version": "3.11.5"
  }
 },
 "nbformat": 4,
 "nbformat_minor": 5
}
